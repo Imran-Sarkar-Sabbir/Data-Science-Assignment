{
 "cells": [
  {
   "cell_type": "code",
   "execution_count": 197,
   "id": "dade90cd",
   "metadata": {},
   "outputs": [],
   "source": [
    "# Libraries to be used\n",
    "import pandas as pd\n",
    "import numpy as np\n",
    "import matplotlib.pyplot as plt\n",
    "import seaborn as sns\n",
    "from sklearn.tree import DecisionTreeClassifier\n",
    "from sklearn.model_selection import train_test_split\n",
    "from sklearn.linear_model import LogisticRegression\n",
    "from sklearn.metrics import classification_report\n",
    "from sklearn.metrics import accuracy_score\n",
    "from sklearn.svm import SVC\n",
    "from sklearn.ensemble import BaggingClassifier\n",
    "from sklearn.ensemble import RandomForestClassifier"
   ]
  },
  {
   "cell_type": "code",
   "execution_count": 198,
   "id": "6cd63c04",
   "metadata": {},
   "outputs": [
    {
     "data": {
      "text/html": [
       "<div>\n",
       "<style scoped>\n",
       "    .dataframe tbody tr th:only-of-type {\n",
       "        vertical-align: middle;\n",
       "    }\n",
       "\n",
       "    .dataframe tbody tr th {\n",
       "        vertical-align: top;\n",
       "    }\n",
       "\n",
       "    .dataframe thead th {\n",
       "        text-align: right;\n",
       "    }\n",
       "</style>\n",
       "<table border=\"1\" class=\"dataframe\">\n",
       "  <thead>\n",
       "    <tr style=\"text-align: right;\">\n",
       "      <th></th>\n",
       "      <th>age</th>\n",
       "      <th>gender</th>\n",
       "      <th>pain</th>\n",
       "      <th>blood_pressure</th>\n",
       "      <th>cholesterol</th>\n",
       "      <th>blood_sugar</th>\n",
       "      <th>heart_rate</th>\n",
       "      <th>exercise</th>\n",
       "      <th>outcome</th>\n",
       "    </tr>\n",
       "  </thead>\n",
       "  <tbody>\n",
       "    <tr>\n",
       "      <th>0</th>\n",
       "      <td>63</td>\n",
       "      <td>1</td>\n",
       "      <td>3</td>\n",
       "      <td>145</td>\n",
       "      <td>233</td>\n",
       "      <td>1</td>\n",
       "      <td>150</td>\n",
       "      <td>0</td>\n",
       "      <td>1</td>\n",
       "    </tr>\n",
       "    <tr>\n",
       "      <th>1</th>\n",
       "      <td>37</td>\n",
       "      <td>1</td>\n",
       "      <td>2</td>\n",
       "      <td>130</td>\n",
       "      <td>250</td>\n",
       "      <td>0</td>\n",
       "      <td>187</td>\n",
       "      <td>0</td>\n",
       "      <td>1</td>\n",
       "    </tr>\n",
       "    <tr>\n",
       "      <th>2</th>\n",
       "      <td>41</td>\n",
       "      <td>0</td>\n",
       "      <td>1</td>\n",
       "      <td>130</td>\n",
       "      <td>204</td>\n",
       "      <td>0</td>\n",
       "      <td>172</td>\n",
       "      <td>0</td>\n",
       "      <td>1</td>\n",
       "    </tr>\n",
       "    <tr>\n",
       "      <th>3</th>\n",
       "      <td>56</td>\n",
       "      <td>1</td>\n",
       "      <td>1</td>\n",
       "      <td>120</td>\n",
       "      <td>236</td>\n",
       "      <td>0</td>\n",
       "      <td>178</td>\n",
       "      <td>0</td>\n",
       "      <td>1</td>\n",
       "    </tr>\n",
       "    <tr>\n",
       "      <th>4</th>\n",
       "      <td>57</td>\n",
       "      <td>0</td>\n",
       "      <td>0</td>\n",
       "      <td>120</td>\n",
       "      <td>354</td>\n",
       "      <td>0</td>\n",
       "      <td>163</td>\n",
       "      <td>1</td>\n",
       "      <td>1</td>\n",
       "    </tr>\n",
       "  </tbody>\n",
       "</table>\n",
       "</div>"
      ],
      "text/plain": [
       "   age  gender  pain  blood_pressure  cholesterol  blood_sugar  heart_rate  \\\n",
       "0   63       1     3             145          233            1         150   \n",
       "1   37       1     2             130          250            0         187   \n",
       "2   41       0     1             130          204            0         172   \n",
       "3   56       1     1             120          236            0         178   \n",
       "4   57       0     0             120          354            0         163   \n",
       "\n",
       "   exercise  outcome  \n",
       "0         0        1  \n",
       "1         0        1  \n",
       "2         0        1  \n",
       "3         0        1  \n",
       "4         1        1  "
      ]
     },
     "execution_count": 198,
     "metadata": {},
     "output_type": "execute_result"
    }
   ],
   "source": [
    "data = pd.read_csv(\"./patients.csv\")\n",
    "data.head()"
   ]
  },
  {
   "cell_type": "code",
   "execution_count": 199,
   "id": "2be6ee75",
   "metadata": {},
   "outputs": [
    {
     "name": "stdout",
     "output_type": "stream",
     "text": [
      "<class 'pandas.core.frame.DataFrame'>\n",
      "RangeIndex: 303 entries, 0 to 302\n",
      "Data columns (total 9 columns):\n",
      " #   Column          Non-Null Count  Dtype\n",
      "---  ------          --------------  -----\n",
      " 0   age             303 non-null    int64\n",
      " 1   gender          303 non-null    int64\n",
      " 2   pain            303 non-null    int64\n",
      " 3   blood_pressure  303 non-null    int64\n",
      " 4   cholesterol     303 non-null    int64\n",
      " 5   blood_sugar     303 non-null    int64\n",
      " 6   heart_rate      303 non-null    int64\n",
      " 7   exercise        303 non-null    int64\n",
      " 8   outcome         303 non-null    int64\n",
      "dtypes: int64(9)\n",
      "memory usage: 21.4 KB\n"
     ]
    }
   ],
   "source": [
    "data.info()"
   ]
  },
  {
   "cell_type": "code",
   "execution_count": 200,
   "id": "d05e7b69",
   "metadata": {},
   "outputs": [
    {
     "data": {
      "text/html": [
       "<div>\n",
       "<style scoped>\n",
       "    .dataframe tbody tr th:only-of-type {\n",
       "        vertical-align: middle;\n",
       "    }\n",
       "\n",
       "    .dataframe tbody tr th {\n",
       "        vertical-align: top;\n",
       "    }\n",
       "\n",
       "    .dataframe thead th {\n",
       "        text-align: right;\n",
       "    }\n",
       "</style>\n",
       "<table border=\"1\" class=\"dataframe\">\n",
       "  <thead>\n",
       "    <tr style=\"text-align: right;\">\n",
       "      <th></th>\n",
       "      <th>age</th>\n",
       "      <th>gender</th>\n",
       "      <th>pain</th>\n",
       "      <th>blood_pressure</th>\n",
       "      <th>cholesterol</th>\n",
       "      <th>blood_sugar</th>\n",
       "      <th>heart_rate</th>\n",
       "      <th>exercise</th>\n",
       "      <th>outcome</th>\n",
       "    </tr>\n",
       "  </thead>\n",
       "  <tbody>\n",
       "    <tr>\n",
       "      <th>count</th>\n",
       "      <td>303.000000</td>\n",
       "      <td>303.000000</td>\n",
       "      <td>303.000000</td>\n",
       "      <td>303.000000</td>\n",
       "      <td>303.000000</td>\n",
       "      <td>303.000000</td>\n",
       "      <td>303.000000</td>\n",
       "      <td>303.000000</td>\n",
       "      <td>303.000000</td>\n",
       "    </tr>\n",
       "    <tr>\n",
       "      <th>mean</th>\n",
       "      <td>54.366337</td>\n",
       "      <td>0.683168</td>\n",
       "      <td>0.966997</td>\n",
       "      <td>131.623762</td>\n",
       "      <td>246.264026</td>\n",
       "      <td>0.148515</td>\n",
       "      <td>149.646865</td>\n",
       "      <td>0.326733</td>\n",
       "      <td>0.544554</td>\n",
       "    </tr>\n",
       "    <tr>\n",
       "      <th>std</th>\n",
       "      <td>9.082101</td>\n",
       "      <td>0.466011</td>\n",
       "      <td>1.032052</td>\n",
       "      <td>17.538143</td>\n",
       "      <td>51.830751</td>\n",
       "      <td>0.356198</td>\n",
       "      <td>22.905161</td>\n",
       "      <td>0.469794</td>\n",
       "      <td>0.498835</td>\n",
       "    </tr>\n",
       "    <tr>\n",
       "      <th>min</th>\n",
       "      <td>29.000000</td>\n",
       "      <td>0.000000</td>\n",
       "      <td>0.000000</td>\n",
       "      <td>94.000000</td>\n",
       "      <td>126.000000</td>\n",
       "      <td>0.000000</td>\n",
       "      <td>71.000000</td>\n",
       "      <td>0.000000</td>\n",
       "      <td>0.000000</td>\n",
       "    </tr>\n",
       "    <tr>\n",
       "      <th>25%</th>\n",
       "      <td>47.500000</td>\n",
       "      <td>0.000000</td>\n",
       "      <td>0.000000</td>\n",
       "      <td>120.000000</td>\n",
       "      <td>211.000000</td>\n",
       "      <td>0.000000</td>\n",
       "      <td>133.500000</td>\n",
       "      <td>0.000000</td>\n",
       "      <td>0.000000</td>\n",
       "    </tr>\n",
       "    <tr>\n",
       "      <th>50%</th>\n",
       "      <td>55.000000</td>\n",
       "      <td>1.000000</td>\n",
       "      <td>1.000000</td>\n",
       "      <td>130.000000</td>\n",
       "      <td>240.000000</td>\n",
       "      <td>0.000000</td>\n",
       "      <td>153.000000</td>\n",
       "      <td>0.000000</td>\n",
       "      <td>1.000000</td>\n",
       "    </tr>\n",
       "    <tr>\n",
       "      <th>75%</th>\n",
       "      <td>61.000000</td>\n",
       "      <td>1.000000</td>\n",
       "      <td>2.000000</td>\n",
       "      <td>140.000000</td>\n",
       "      <td>274.500000</td>\n",
       "      <td>0.000000</td>\n",
       "      <td>166.000000</td>\n",
       "      <td>1.000000</td>\n",
       "      <td>1.000000</td>\n",
       "    </tr>\n",
       "    <tr>\n",
       "      <th>max</th>\n",
       "      <td>77.000000</td>\n",
       "      <td>1.000000</td>\n",
       "      <td>3.000000</td>\n",
       "      <td>200.000000</td>\n",
       "      <td>564.000000</td>\n",
       "      <td>1.000000</td>\n",
       "      <td>202.000000</td>\n",
       "      <td>1.000000</td>\n",
       "      <td>1.000000</td>\n",
       "    </tr>\n",
       "  </tbody>\n",
       "</table>\n",
       "</div>"
      ],
      "text/plain": [
       "              age      gender        pain  blood_pressure  cholesterol  \\\n",
       "count  303.000000  303.000000  303.000000      303.000000   303.000000   \n",
       "mean    54.366337    0.683168    0.966997      131.623762   246.264026   \n",
       "std      9.082101    0.466011    1.032052       17.538143    51.830751   \n",
       "min     29.000000    0.000000    0.000000       94.000000   126.000000   \n",
       "25%     47.500000    0.000000    0.000000      120.000000   211.000000   \n",
       "50%     55.000000    1.000000    1.000000      130.000000   240.000000   \n",
       "75%     61.000000    1.000000    2.000000      140.000000   274.500000   \n",
       "max     77.000000    1.000000    3.000000      200.000000   564.000000   \n",
       "\n",
       "       blood_sugar  heart_rate    exercise     outcome  \n",
       "count   303.000000  303.000000  303.000000  303.000000  \n",
       "mean      0.148515  149.646865    0.326733    0.544554  \n",
       "std       0.356198   22.905161    0.469794    0.498835  \n",
       "min       0.000000   71.000000    0.000000    0.000000  \n",
       "25%       0.000000  133.500000    0.000000    0.000000  \n",
       "50%       0.000000  153.000000    0.000000    1.000000  \n",
       "75%       0.000000  166.000000    1.000000    1.000000  \n",
       "max       1.000000  202.000000    1.000000    1.000000  "
      ]
     },
     "execution_count": 200,
     "metadata": {},
     "output_type": "execute_result"
    }
   ],
   "source": [
    "data.describe()"
   ]
  },
  {
   "cell_type": "code",
   "execution_count": 217,
   "id": "1c9c5104",
   "metadata": {},
   "outputs": [
    {
     "data": {
      "text/plain": [
       "age               int64\n",
       "gender            int64\n",
       "pain              int64\n",
       "blood_pressure    int64\n",
       "cholesterol       int64\n",
       "blood_sugar       int64\n",
       "heart_rate        int64\n",
       "exercise          int64\n",
       "outcome           int64\n",
       "dtype: object"
      ]
     },
     "execution_count": 217,
     "metadata": {},
     "output_type": "execute_result"
    }
   ],
   "source": [
    "data.dtypes"
   ]
  },
  {
   "cell_type": "code",
   "execution_count": 204,
   "id": "63f238b8",
   "metadata": {},
   "outputs": [
    {
     "data": {
      "text/plain": [
       "<AxesSubplot:>"
      ]
     },
     "execution_count": 204,
     "metadata": {},
     "output_type": "execute_result"
    },
    {
     "data": {
      "image/png": "[encoded data removed]",
      "text/plain": [
       "<Figure size 432x288 with 2 Axes>"
      ]
     },
     "metadata": {
      "needs_background": "light"
     },
     "output_type": "display_data"
    }
   ],
   "source": [
    "sns.heatmap(data.corr())"
   ]
  },
  {
   "cell_type": "code",
   "execution_count": 205,
   "id": "db029806",
   "metadata": {},
   "outputs": [
    {
     "data": {
      "text/plain": [
       "age              -0.225439\n",
       "gender           -0.280937\n",
       "pain              0.433798\n",
       "blood_pressure   -0.144931\n",
       "cholesterol      -0.085239\n",
       "blood_sugar      -0.028046\n",
       "heart_rate        0.421741\n",
       "exercise         -0.436757\n",
       "Name: outcome, dtype: float64"
      ]
     },
     "execution_count": 205,
     "metadata": {},
     "output_type": "execute_result"
    }
   ],
   "source": [
    "\n",
    "# Calculating correlation between outcome and other variables\n",
    "data.corr()['outcome'][[\"age\",\"gender\",\"pain\",\"blood_pressure\",\"cholesterol\",\"blood_sugar\",\"heart_rate\",\"exercise\",]]\n",
    "\n",
    "corrs"
   ]
  },
  {
   "cell_type": "code",
   "execution_count": 206,
   "id": "dfd9e16e",
   "metadata": {},
   "outputs": [
    {
     "data": {
      "image/png": "[encoded data removed]",
      "text/plain": [
       "<Figure size 360x360 with 1 Axes>"
      ]
     },
     "metadata": {
      "needs_background": "light"
     },
     "output_type": "display_data"
    }
   ],
   "source": [
    "a = sns.catplot(\n",
    "        data=data,\n",
    "        y=\"age\", x=\"outcome\", \n",
    "        kind=\"bar\")\n",
    "\n",
    "a.set_xticklabels([ \"hadn't heart attack\",\"had heart attack\"])\n",
    "plt.show()"
   ]
  },
  {
   "cell_type": "code",
   "execution_count": 207,
   "id": "b70641c7",
   "metadata": {},
   "outputs": [
    {
     "data": {
      "image/png": "[encoded data removed]",
      "text/plain": [
       "<Figure size 432x288 with 1 Axes>"
      ]
     },
     "metadata": {
      "needs_background": "light"
     },
     "output_type": "display_data"
    }
   ],
   "source": [
    "sns.lineplot(data=data, x=\"blood_pressure\", y=\"outcome\")\n",
    "plt.show()"
   ]
  },
  {
   "cell_type": "code",
   "execution_count": 208,
   "id": "2322651a",
   "metadata": {},
   "outputs": [],
   "source": [
    "# list of columns which will be removed from training.\n",
    "target_col = ['outcome']\n",
    "\n",
    "X = data.drop( target_col , axis=1)\n",
    "Y = data.outcome\n",
    "\n",
    "# split the dataset into training(75%) and testing(25%).\n",
    "X_train, X_test, Y_train, Y_test = train_test_split(X, Y, test_size=.25, random_state=0) \n"
   ]
  },
  {
   "cell_type": "code",
   "execution_count": 209,
   "id": "9a3737a2",
   "metadata": {},
   "outputs": [
    {
     "name": "stdout",
     "output_type": "stream",
     "text": [
      "Train data accuracy: 0.8061674008810573\n",
      "Test data accuracy: 0.7763157894736842\n"
     ]
    },
    {
     "name": "stderr",
     "output_type": "stream",
     "text": [
      "c:\\ProgramData\\Anaconda3\\lib\\site-packages\\sklearn\\linear_model\\_logistic.py:814: ConvergenceWarning: lbfgs failed to converge (status=1):\n",
      "STOP: TOTAL NO. of ITERATIONS REACHED LIMIT.\n",
      "\n",
      "Increase the number of iterations (max_iter) or scale the data as shown in:\n",
      "    https://scikit-learn.org/stable/modules/preprocessing.html\n",
      "Please also refer to the documentation for alternative solver options:\n",
      "    https://scikit-learn.org/stable/modules/linear_model.html#logistic-regression\n",
      "  n_iter_i = _check_optimize_result(\n"
     ]
    }
   ],
   "source": [
    "# Create the model\n",
    "model = LogisticRegression()\n",
    "\n",
    "# build the model\n",
    "model.fit(X_train, Y_train)\n",
    "\n",
    "# predict the model with testing data \n",
    "Y_test_predction = model.predict(X_test)\n",
    "\n",
    "\n",
    "accuracy = accuracy_score(y_true = Y_test, y_pred = Y_test_predction)\n",
    "### track the best accuracy and the model name\n",
    "best_accuracy = accuracy\n",
    "best_predictor = \"LogisticRegression\"\n",
    "\n",
    "# Print the result of report\n",
    "print(\"Train data accuracy:\",accuracy_score(y_true = Y_train, y_pred = model.predict(X_train)))\n",
    "print(\"Test data accuracy:\", accuracy)"
   ]
  },
  {
   "cell_type": "code",
   "execution_count": 210,
   "id": "86dee600",
   "metadata": {},
   "outputs": [
    {
     "name": "stdout",
     "output_type": "stream",
     "text": [
      "fraction is 0.4\n",
      "Train data accuracy: 0.7577092511013216\n",
      "Test data accuracy: 0.7631578947368421\n"
     ]
    }
   ],
   "source": [
    "# Create Decision Tree classifer object\n",
    "\n",
    "fractions = [0,0.1,0.2101,0.3,0.4,0.5]\n",
    "\n",
    "best_accuracy = 0\n",
    "fraction_no = 0\n",
    "model\n",
    "\n",
    "for i in fractions:\n",
    "\n",
    "    model = DecisionTreeClassifier(criterion='entropy', splitter='random', min_weight_fraction_leaf=i, random_state=None)\n",
    "    model = model.fit(X_train,Y_train)\n",
    "    Y_test_predction = model.predict(X_test)\n",
    "    score = accuracy_score(y_true = Y_test, y_pred = Y_test_predction)\n",
    "    if best_accuracy < score:\n",
    "        best_accuracy = score\n",
    "        fraction_no = i\n",
    "\n",
    "\n",
    "print(f\"fraction is {fraction_no}\")\n",
    "model = DecisionTreeClassifier(criterion='entropy',splitter='random', min_weight_fraction_leaf=fraction_no, random_state=None)\n",
    "\n",
    "model = model.fit(X_train,Y_train)\n",
    "Y_test_predction = model.predict(X_test)\n",
    "\n",
    "accuracy = accuracy_score(y_true = Y_test, y_pred = Y_test_predction)\n",
    "\n",
    "### track the best accuracy and the model name\n",
    "if best_accuracy < accuracy:\n",
    "    best_accuracy = accuracy\n",
    "    best_predictor = \"DecisionTreeClassifier\"\n",
    "\n",
    "# Print the result of report\n",
    "print(\"Train data accuracy:\",accuracy_score(y_true = Y_train, y_pred = model.predict(X_train)))\n",
    "print(\"Test data accuracy:\", accuracy)\n",
    "    "
   ]
  },
  {
   "cell_type": "code",
   "execution_count": 211,
   "id": "60f2cbd5",
   "metadata": {},
   "outputs": [
    {
     "name": "stdout",
     "output_type": "stream",
     "text": [
      "Train data accuracy: 0.6123348017621145\n",
      "Test data accuracy: 0.7105263157894737\n"
     ]
    }
   ],
   "source": [
    "bagg = BaggingClassifier(\n",
    "                            base_estimator=SVC(), \n",
    "                            n_estimators=100,\n",
    "                            max_samples=100,\n",
    "                            random_state=1, \n",
    "                            n_jobs=3\n",
    "                        )\n",
    "model = bagg.fit(X_train, Y_train)\n",
    "Y_test_predction = model.predict(X_test)\n",
    "\n",
    "accuracy = accuracy_score(y_true = Y_test, y_pred = Y_test_predction)\n",
    "### track the best accuracy and the model name\n",
    "if best_accuracy < accuracy:\n",
    "    best_accuracy = accuracy\n",
    "    best_predictor = \"BaggingClassifier\"\n",
    "\n",
    "# Print the result of report\n",
    "print(\"Train data accuracy:\",accuracy_score(y_true = Y_train, y_pred = model.predict(X_train)))\n",
    "print(\"Test data accuracy:\", accuracy)"
   ]
  },
  {
   "cell_type": "code",
   "execution_count": 212,
   "id": "88739237",
   "metadata": {},
   "outputs": [
    {
     "name": "stdout",
     "output_type": "stream",
     "text": [
      "Train data accuracy: 1.0\n",
      "Test data accuracy: 0.7631578947368421\n"
     ]
    }
   ],
   "source": [
    "model =RandomForestClassifier(n_estimators=100)\n",
    "model.fit(X_train, Y_train)\n",
    "\n",
    "Y_test_predction = model.predict(X_test)\n",
    "\n",
    "\n",
    "accuracy = accuracy_score(y_true = Y_test, y_pred = Y_test_predction)\n",
    "### track the best accuracy and the model name\n",
    "if best_accuracy < accuracy:\n",
    "    best_accuracy = accuracy\n",
    "    best_predictor = \"RandomForestClassifier\"\n",
    "\n",
    "# Print the result of report\n",
    "print(\"Train data accuracy:\",accuracy_score(y_true = Y_train, y_pred = model.predict(X_train)))\n",
    "print(\"Test data accuracy:\", accuracy)\n",
    "    "
   ]
  },
  {
   "cell_type": "code",
   "execution_count": 213,
   "id": "df9ba719",
   "metadata": {},
   "outputs": [
    {
     "name": "stdout",
     "output_type": "stream",
     "text": [
      "Best predictor LogisticRegression\n",
      "Best accuracy 0.7631578947368421\n"
     ]
    }
   ],
   "source": [
    "print(f\"Best predictor {best_predictor}\")\n",
    "print(f\"Best accuracy {best_accuracy}\")"
   ]
  },
  {
   "cell_type": "code",
   "execution_count": 214,
   "id": "ae5187f6",
   "metadata": {},
   "outputs": [],
   "source": [
    "# last"
   ]
  },
  {
   "cell_type": "code",
   "execution_count": null,
   "id": "235c64fe",
   "metadata": {},
   "outputs": [],
   "source": [
    "\n"
   ]
  },
  {
   "cell_type": "code",
   "execution_count": 215,
   "id": "d09b996f",
   "metadata": {},
   "outputs": [
    {
     "name": "stdout",
     "output_type": "stream",
     "text": [
      "fraction is 0.1\n",
      "Train data accuracy: 0.7577092511013216\n",
      "Test data accuracy: 0.7631578947368421\n"
     ]
    }
   ],
   "source": [
    "\n",
    "# list of columns which will be removed from training.\n",
    "target_col = ['outcome']\n",
    "\n",
    "X = data[[\"age\",\"pain\", \"blood_sugar\", \"blood_pressure\"]]\n",
    "Y = data.outcome\n",
    "\n",
    "# split the dataset into training(75%) and testing(25%).\n",
    "X_train, X_test, Y_train, Y_test = train_test_split(X, Y, test_size=.25, random_state=0) \n",
    "\n",
    "fractions = [0,0.1,0.18,0.25,0.3,0.4,0.5]\n",
    "\n",
    "best_accuracy = 0\n",
    "fraction_no = 0\n",
    "model\n",
    "\n",
    "for i in fractions:\n",
    "\n",
    "    model = DecisionTreeClassifier(criterion='gini', splitter='best', min_weight_fraction_leaf=i, random_state=0)\n",
    "    model = model.fit(X_train,Y_train)\n",
    "    Y_test_predction = model.predict(X_test)\n",
    "    score = accuracy_score(y_true = Y_test, y_pred = Y_test_predction)\n",
    "    if best_accuracy < score:\n",
    "        best_accuracy = score\n",
    "        fraction_no = i\n",
    "\n",
    "\n",
    "print(f\"fraction is {fraction_no}\")\n",
    "model = DecisionTreeClassifier(criterion='gini',splitter='best', min_weight_fraction_leaf=fraction_no, random_state=0)\n",
    "\n",
    "model = model.fit(X_train,Y_train)\n",
    "Y_test_predction = model.predict(X_test)\n",
    "\n",
    "print(\"Train data accuracy:\",accuracy_score(y_true = Y_train, y_pred = model.predict(X_train)))\n",
    "print(\"Test data accuracy:\",accuracy_score(y_true = Y_test, y_pred = Y_test_predction))\n",
    "    "
   ]
  }
 ],
 "metadata": {
  "kernelspec": {
   "display_name": "Python 3.9.12 ('base')",
   "language": "python",
   "name": "python3"
  },
  "language_info": {
   "codemirror_mode": {
    "name": "ipython",
    "version": 3
   },
   "file_extension": ".py",
   "mimetype": "text/x-python",
   "name": "python",
   "nbconvert_exporter": "python",
   "pygments_lexer": "ipython3",
   "version": "3.9.12"
  },
  "vscode": {
   "interpreter": {
    "hash": "ad2bdc8ecc057115af97d19610ffacc2b4e99fae6737bb82f5d7fb13d2f2c186"
   }
  }
 },
 "nbformat": 4,
 "nbformat_minor": 5
}
