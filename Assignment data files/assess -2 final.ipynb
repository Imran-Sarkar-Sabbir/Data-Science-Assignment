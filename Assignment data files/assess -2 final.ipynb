{
 "cells": [
  {
   "cell_type": "code",
   "execution_count": 75,
   "id": "dade90cd",
   "metadata": {},
   "outputs": [],
   "source": [
    "# Libraries to be used\n",
    "import pandas as pd\n",
    "import numpy as np\n",
    "import matplotlib.pyplot as plt\n",
    "import seaborn as sns\n",
    "from sklearn.tree import DecisionTreeClassifier\n",
    "from sklearn.model_selection import train_test_split\n",
    "from sklearn.linear_model import LogisticRegression\n",
    "from sklearn.metrics import classification_report\n",
    "from sklearn.metrics import accuracy_score\n",
    "from sklearn.preprocessing import StandardScaler\n",
    "from sklearn.pipeline import make_pipeline\n",
    "from sklearn.ensemble import BaggingClassifier\n",
    "from sklearn.ensemble import RandomForestClassifier"
   ]
  },
  {
   "cell_type": "code",
   "execution_count": 76,
   "id": "6cd63c04",
   "metadata": {},
   "outputs": [
    {
     "data": {
      "text/html": [
       "<div>\n",
       "<style scoped>\n",
       "    .dataframe tbody tr th:only-of-type {\n",
       "        vertical-align: middle;\n",
       "    }\n",
       "\n",
       "    .dataframe tbody tr th {\n",
       "        vertical-align: top;\n",
       "    }\n",
       "\n",
       "    .dataframe thead th {\n",
       "        text-align: right;\n",
       "    }\n",
       "</style>\n",
       "<table border=\"1\" class=\"dataframe\">\n",
       "  <thead>\n",
       "    <tr style=\"text-align: right;\">\n",
       "      <th></th>\n",
       "      <th>age</th>\n",
       "      <th>gender</th>\n",
       "      <th>pain</th>\n",
       "      <th>blood_pressure</th>\n",
       "      <th>cholesterol</th>\n",
       "      <th>blood_sugar</th>\n",
       "      <th>heart_rate</th>\n",
       "      <th>exercise</th>\n",
       "      <th>outcome</th>\n",
       "    </tr>\n",
       "  </thead>\n",
       "  <tbody>\n",
       "    <tr>\n",
       "      <th>0</th>\n",
       "      <td>63</td>\n",
       "      <td>1</td>\n",
       "      <td>3</td>\n",
       "      <td>145</td>\n",
       "      <td>233</td>\n",
       "      <td>1</td>\n",
       "      <td>150</td>\n",
       "      <td>0</td>\n",
       "      <td>1</td>\n",
       "    </tr>\n",
       "    <tr>\n",
       "      <th>1</th>\n",
       "      <td>37</td>\n",
       "      <td>1</td>\n",
       "      <td>2</td>\n",
       "      <td>130</td>\n",
       "      <td>250</td>\n",
       "      <td>0</td>\n",
       "      <td>187</td>\n",
       "      <td>0</td>\n",
       "      <td>1</td>\n",
       "    </tr>\n",
       "    <tr>\n",
       "      <th>2</th>\n",
       "      <td>41</td>\n",
       "      <td>0</td>\n",
       "      <td>1</td>\n",
       "      <td>130</td>\n",
       "      <td>204</td>\n",
       "      <td>0</td>\n",
       "      <td>172</td>\n",
       "      <td>0</td>\n",
       "      <td>1</td>\n",
       "    </tr>\n",
       "    <tr>\n",
       "      <th>3</th>\n",
       "      <td>56</td>\n",
       "      <td>1</td>\n",
       "      <td>1</td>\n",
       "      <td>120</td>\n",
       "      <td>236</td>\n",
       "      <td>0</td>\n",
       "      <td>178</td>\n",
       "      <td>0</td>\n",
       "      <td>1</td>\n",
       "    </tr>\n",
       "    <tr>\n",
       "      <th>4</th>\n",
       "      <td>57</td>\n",
       "      <td>0</td>\n",
       "      <td>0</td>\n",
       "      <td>120</td>\n",
       "      <td>354</td>\n",
       "      <td>0</td>\n",
       "      <td>163</td>\n",
       "      <td>1</td>\n",
       "      <td>1</td>\n",
       "    </tr>\n",
       "  </tbody>\n",
       "</table>\n",
       "</div>"
      ],
      "text/plain": [
       "   age  gender  pain  blood_pressure  cholesterol  blood_sugar  heart_rate  \\\n",
       "0   63       1     3             145          233            1         150   \n",
       "1   37       1     2             130          250            0         187   \n",
       "2   41       0     1             130          204            0         172   \n",
       "3   56       1     1             120          236            0         178   \n",
       "4   57       0     0             120          354            0         163   \n",
       "\n",
       "   exercise  outcome  \n",
       "0         0        1  \n",
       "1         0        1  \n",
       "2         0        1  \n",
       "3         0        1  \n",
       "4         1        1  "
      ]
     },
     "execution_count": 76,
     "metadata": {},
     "output_type": "execute_result"
    }
   ],
   "source": [
    "data = pd.read_csv(\"./patients.csv\")\n",
    "data.head()"
   ]
  },
  {
   "cell_type": "code",
   "execution_count": 77,
   "id": "b6f2f493",
   "metadata": {},
   "outputs": [
    {
     "data": {
      "text/plain": [
       "age                29\n",
       "gender              0\n",
       "pain                0\n",
       "blood_pressure     94\n",
       "cholesterol       126\n",
       "blood_sugar         0\n",
       "heart_rate         71\n",
       "exercise            0\n",
       "outcome             0\n",
       "dtype: int64"
      ]
     },
     "execution_count": 77,
     "metadata": {},
     "output_type": "execute_result"
    }
   ],
   "source": [
    "# Average value\n",
    "data.min()"
   ]
  },
  {
   "cell_type": "code",
   "execution_count": 78,
   "id": "4ec2977e",
   "metadata": {},
   "outputs": [
    {
     "data": {
      "text/plain": [
       "age                54.366337\n",
       "gender              0.683168\n",
       "pain                0.966997\n",
       "blood_pressure    131.623762\n",
       "cholesterol       246.264026\n",
       "blood_sugar         0.148515\n",
       "heart_rate        149.646865\n",
       "exercise            0.326733\n",
       "outcome             0.544554\n",
       "dtype: float64"
      ]
     },
     "execution_count": 78,
     "metadata": {},
     "output_type": "execute_result"
    }
   ],
   "source": [
    "# Average value\n",
    "data.mean()"
   ]
  },
  {
   "cell_type": "code",
   "execution_count": 79,
   "id": "a4b5fd13",
   "metadata": {},
   "outputs": [
    {
     "data": {
      "text/plain": [
       "age                77\n",
       "gender              1\n",
       "pain                3\n",
       "blood_pressure    200\n",
       "cholesterol       564\n",
       "blood_sugar         1\n",
       "heart_rate        202\n",
       "exercise            1\n",
       "outcome             1\n",
       "dtype: int64"
      ]
     },
     "execution_count": 79,
     "metadata": {},
     "output_type": "execute_result"
    }
   ],
   "source": [
    "# Average value\n",
    "data.max()"
   ]
  },
  {
   "cell_type": "code",
   "execution_count": 80,
   "id": "63f238b8",
   "metadata": {},
   "outputs": [
    {
     "name": "stdout",
     "output_type": "stream",
     "text": [
      "Correlation between outcome and other variables\n",
      "age              -0.225439\n",
      "gender           -0.280937\n",
      "pain              0.433798\n",
      "blood_pressure   -0.144931\n",
      "cholesterol      -0.085239\n",
      "blood_sugar      -0.028046\n",
      "heart_rate        0.421741\n",
      "exercise         -0.436757\n",
      "Name: outcome, dtype: float64\n"
     ]
    }
   ],
   "source": [
    "# Calculating correlation between cnt and other variables\n",
    "corrs = data.corr()['outcome'][[\"age\",\"gender\",\"pain\",\"blood_pressure\",\"cholesterol\",\"blood_sugar\",\"heart_rate\",\"exercise\",]]\n",
    "\n",
    "print('Correlation between outcome and other variables')\n",
    "print(corrs)"
   ]
  },
  {
   "cell_type": "code",
   "execution_count": 81,
   "id": "dfd9e16e",
   "metadata": {},
   "outputs": [
    {
     "data": {
      "image/png": "[encoded data removed]",
      "text/plain": [
       "<Figure size 360x360 with 1 Axes>"
      ]
     },
     "metadata": {
      "needs_background": "light"
     },
     "output_type": "display_data"
    }
   ],
   "source": [
    "a = sns.catplot(\n",
    "        data=data,\n",
    "        y=\"age\", x=\"outcome\", \n",
    "        kind=\"bar\")\n",
    "\n",
    "a.set_xticklabels([ \"hadn't heart attack\",\"had heart attack\"])\n",
    "plt.show()"
   ]
  },
  {
   "cell_type": "code",
   "execution_count": 82,
   "id": "b70641c7",
   "metadata": {},
   "outputs": [
    {
     "data": {
      "image/png": "[encoded data removed]",
      "text/plain": [
       "<Figure size 432x288 with 1 Axes>"
      ]
     },
     "metadata": {
      "needs_background": "light"
     },
     "output_type": "display_data"
    }
   ],
   "source": [
    "sns.lineplot(data=data, x=\"blood_pressure\", y=\"outcome\")\n",
    "plt.show()"
   ]
  },
  {
   "cell_type": "code",
   "execution_count": 83,
   "id": "2322651a",
   "metadata": {},
   "outputs": [],
   "source": [
    "# list of columns which will be removed from training.\n",
    "target_col = ['outcome']\n",
    "\n",
    "X = data.drop( target_col , axis=1)\n",
    "Y = data.outcome\n",
    "\n",
    "# split the dataset into training(75%) and testing(25%).\n",
    "X_train, X_test, Y_train, Y_test = train_test_split(X, Y, test_size=.25, random_state=0) \n"
   ]
  },
  {
   "cell_type": "code",
   "execution_count": 84,
   "id": "9a3737a2",
   "metadata": {},
   "outputs": [
    {
     "name": "stderr",
     "output_type": "stream",
     "text": [
      "c:\\ProgramData\\Anaconda3\\lib\\site-packages\\sklearn\\linear_model\\_logistic.py:814: ConvergenceWarning: lbfgs failed to converge (status=1):\n",
      "STOP: TOTAL NO. of ITERATIONS REACHED LIMIT.\n",
      "\n",
      "Increase the number of iterations (max_iter) or scale the data as shown in:\n",
      "    https://scikit-learn.org/stable/modules/preprocessing.html\n",
      "Please also refer to the documentation for alternative solver options:\n",
      "    https://scikit-learn.org/stable/modules/linear_model.html#logistic-regression\n",
      "  n_iter_i = _check_optimize_result(\n"
     ]
    },
    {
     "data": {
      "text/plain": [
       "LogisticRegression()"
      ]
     },
     "execution_count": 84,
     "metadata": {},
     "output_type": "execute_result"
    }
   ],
   "source": [
    "# Create the model\n",
    "model = LogisticRegression()\n",
    "\n",
    "# build the model\n",
    "model.fit(X_train, Y_train)"
   ]
  },
  {
   "cell_type": "code",
   "execution_count": 85,
   "id": "040841b7",
   "metadata": {},
   "outputs": [
    {
     "name": "stdout",
     "output_type": "stream",
     "text": [
      "Train data accuracy: 0.8061674008810573\n",
      "Test data accuracy: 0.7763157894736842\n"
     ]
    }
   ],
   "source": [
    "# predict the model with testing data \n",
    "Y_test_predction = model.predict(X_test)\n",
    "\n",
    "# Print the result of report\n",
    "print(\"Train data accuracy:\",accuracy_score(y_true = Y_train, y_pred = model.predict(X_train)))\n",
    "print(\"Test data accuracy:\",accuracy_score(y_true = Y_test, y_pred = Y_test_predction))"
   ]
  },
  {
   "cell_type": "code",
   "execution_count": 86,
   "id": "86dee600",
   "metadata": {},
   "outputs": [],
   "source": [
    "# Create Decision Tree classifer object\n",
    "model = DecisionTreeClassifier(random_state=0)\n",
    "\n",
    "\n",
    "# Train Decision Tree Classifer\n",
    "model = model.fit(X_train,Y_train)\n",
    "\n",
    "#Predict the response for test dataset\n",
    "# y_pred = clf.predict(X_test)"
   ]
  },
  {
   "cell_type": "code",
   "execution_count": 87,
   "id": "cd6f7733",
   "metadata": {},
   "outputs": [
    {
     "name": "stdout",
     "output_type": "stream",
     "text": [
      "Train data accuracy: 1.0\n",
      "Test data accuracy: 0.6447368421052632\n"
     ]
    }
   ],
   "source": [
    "# predict the model with testing data \n",
    "Y_test_predction = model.predict(X_test)\n",
    "\n",
    "# Print the result of report\n",
    "print(\"Train data accuracy:\",accuracy_score(y_true = Y_train, y_pred = model.predict(X_train)))\n",
    "print(\"Test data accuracy:\",accuracy_score(y_true = Y_test, y_pred = Y_test_predction))"
   ]
  },
  {
   "cell_type": "code",
   "execution_count": 88,
   "id": "60f2cbd5",
   "metadata": {},
   "outputs": [],
   "source": [
    "pipeline = make_pipeline(StandardScaler(),\n",
    "                        LogisticRegression(random_state=1))\n",
    "\n",
    "bagg = BaggingClassifier(base_estimator=pipeline, n_estimators=100,\n",
    "                                 max_samples=100,\n",
    "                                 random_state=1, n_jobs=5)\n",
    "model = bagg.fit(X_train, Y_train)"
   ]
  },
  {
   "cell_type": "code",
   "execution_count": 89,
   "id": "88739237",
   "metadata": {},
   "outputs": [
    {
     "name": "stdout",
     "output_type": "stream",
     "text": [
      "Train data accuracy: 0.801762114537445\n",
      "Test data accuracy: 0.7894736842105263\n"
     ]
    }
   ],
   "source": [
    "Y_test_predction = model.predict(X_test)\n",
    "\n",
    "# Print the result of report\n",
    "print(\"Train data accuracy:\",accuracy_score(y_true = Y_train, y_pred = model.predict(X_train)))\n",
    "print(\"Test data accuracy:\",accuracy_score(y_true = Y_test, y_pred = Y_test_predction))"
   ]
  },
  {
   "cell_type": "code",
   "execution_count": 90,
   "id": "2cca1a3d",
   "metadata": {},
   "outputs": [
    {
     "data": {
      "text/plain": [
       "RandomForestClassifier()"
      ]
     },
     "execution_count": 90,
     "metadata": {},
     "output_type": "execute_result"
    }
   ],
   "source": [
    "model =RandomForestClassifier(n_estimators=100)\n",
    "model.fit(X_train, Y_train)"
   ]
  },
  {
   "cell_type": "code",
   "execution_count": 91,
   "id": "ce07d7eb",
   "metadata": {},
   "outputs": [
    {
     "name": "stdout",
     "output_type": "stream",
     "text": [
      "Train data accuracy: 1.0\n",
      "Test data accuracy: 0.7105263157894737\n"
     ]
    }
   ],
   "source": [
    "Y_test_predction = model.predict(X_test)\n",
    "\n",
    "# Print the result of report\n",
    "print(\"Train data accuracy:\",accuracy_score(y_true = Y_train, y_pred = model.predict(X_train)))\n",
    "print(\"Test data accuracy:\",accuracy_score(y_true = Y_test, y_pred = Y_test_predction))"
   ]
  },
  {
   "cell_type": "code",
   "execution_count": 92,
   "id": "7a32545a",
   "metadata": {},
   "outputs": [],
   "source": [
    "# https://github.com/imran-sarkar-0014/Assignments/blob/main/send-3/send%203/Assignment%203%20to%20do/assignment%203.2.ipynb"
   ]
  }
 ],
 "metadata": {
  "kernelspec": {
   "display_name": "Python 3.9.12 ('base')",
   "language": "python",
   "name": "python3"
  },
  "language_info": {
   "codemirror_mode": {
    "name": "ipython",
    "version": 3
   },
   "file_extension": ".py",
   "mimetype": "text/x-python",
   "name": "python",
   "nbconvert_exporter": "python",
   "pygments_lexer": "ipython3",
   "version": "3.9.12"
  },
  "vscode": {
   "interpreter": {
    "hash": "ad2bdc8ecc057115af97d19610ffacc2b4e99fae6737bb82f5d7fb13d2f2c186"
   }
  }
 },
 "nbformat": 4,
 "nbformat_minor": 5
}
