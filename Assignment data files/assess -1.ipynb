{
 "cells": [
  {
   "cell_type": "code",
   "execution_count": 32,
   "metadata": {},
   "outputs": [],
   "source": [
    "#Import libraries\n",
    "import numpy as np\n",
    "import pandas as pd\n",
    "import matplotlib.pyplot as plt\n",
    "import seaborn as sns\n",
    "from mlxtend.frequent_patterns import apriori\n",
    "from mlxtend.preprocessing import TransactionEncoder\n",
    "from mlxtend.frequent_patterns import association_rules"
   ]
  },
  {
   "cell_type": "code",
   "execution_count": 33,
   "id": "1207b8bc",
   "metadata": {},
   "outputs": [
    {
     "data": {
      "text/html": [
       "<div>\n",
       "<style scoped>\n",
       "    .dataframe tbody tr th:only-of-type {\n",
       "        vertical-align: middle;\n",
       "    }\n",
       "\n",
       "    .dataframe tbody tr th {\n",
       "        vertical-align: top;\n",
       "    }\n",
       "\n",
       "    .dataframe thead th {\n",
       "        text-align: right;\n",
       "    }\n",
       "</style>\n",
       "<table border=\"1\" class=\"dataframe\">\n",
       "  <thead>\n",
       "    <tr style=\"text-align: right;\">\n",
       "      <th></th>\n",
       "      <th>Transaction</th>\n",
       "      <th>Item</th>\n",
       "      <th>date_time</th>\n",
       "      <th>period_day</th>\n",
       "      <th>weekday_weekend</th>\n",
       "    </tr>\n",
       "  </thead>\n",
       "  <tbody>\n",
       "    <tr>\n",
       "      <th>0</th>\n",
       "      <td>1</td>\n",
       "      <td>Bread</td>\n",
       "      <td>30-10-2016 09:58</td>\n",
       "      <td>morning</td>\n",
       "      <td>weekend</td>\n",
       "    </tr>\n",
       "    <tr>\n",
       "      <th>1</th>\n",
       "      <td>2</td>\n",
       "      <td>Scandinavian</td>\n",
       "      <td>30-10-2016 10:05</td>\n",
       "      <td>morning</td>\n",
       "      <td>weekend</td>\n",
       "    </tr>\n",
       "    <tr>\n",
       "      <th>2</th>\n",
       "      <td>2</td>\n",
       "      <td>Scandinavian</td>\n",
       "      <td>30-10-2016 10:05</td>\n",
       "      <td>morning</td>\n",
       "      <td>weekend</td>\n",
       "    </tr>\n",
       "    <tr>\n",
       "      <th>3</th>\n",
       "      <td>3</td>\n",
       "      <td>Hot chocolate</td>\n",
       "      <td>30-10-2016 10:07</td>\n",
       "      <td>morning</td>\n",
       "      <td>weekend</td>\n",
       "    </tr>\n",
       "    <tr>\n",
       "      <th>4</th>\n",
       "      <td>3</td>\n",
       "      <td>Jam</td>\n",
       "      <td>30-10-2016 10:07</td>\n",
       "      <td>morning</td>\n",
       "      <td>weekend</td>\n",
       "    </tr>\n",
       "    <tr>\n",
       "      <th>5</th>\n",
       "      <td>3</td>\n",
       "      <td>Cookies</td>\n",
       "      <td>30-10-2016 10:07</td>\n",
       "      <td>morning</td>\n",
       "      <td>weekend</td>\n",
       "    </tr>\n",
       "    <tr>\n",
       "      <th>6</th>\n",
       "      <td>4</td>\n",
       "      <td>Muffin</td>\n",
       "      <td>30-10-2016 10:08</td>\n",
       "      <td>morning</td>\n",
       "      <td>weekend</td>\n",
       "    </tr>\n",
       "    <tr>\n",
       "      <th>7</th>\n",
       "      <td>5</td>\n",
       "      <td>Coffee</td>\n",
       "      <td>30-10-2016 10:13</td>\n",
       "      <td>morning</td>\n",
       "      <td>weekend</td>\n",
       "    </tr>\n",
       "    <tr>\n",
       "      <th>8</th>\n",
       "      <td>5</td>\n",
       "      <td>Pastry</td>\n",
       "      <td>30-10-2016 10:13</td>\n",
       "      <td>morning</td>\n",
       "      <td>weekend</td>\n",
       "    </tr>\n",
       "    <tr>\n",
       "      <th>9</th>\n",
       "      <td>5</td>\n",
       "      <td>Bread</td>\n",
       "      <td>30-10-2016 10:13</td>\n",
       "      <td>morning</td>\n",
       "      <td>weekend</td>\n",
       "    </tr>\n",
       "    <tr>\n",
       "      <th>10</th>\n",
       "      <td>6</td>\n",
       "      <td>Medialuna</td>\n",
       "      <td>30-10-2016 10:16</td>\n",
       "      <td>morning</td>\n",
       "      <td>weekend</td>\n",
       "    </tr>\n",
       "    <tr>\n",
       "      <th>11</th>\n",
       "      <td>6</td>\n",
       "      <td>Pastry</td>\n",
       "      <td>30-10-2016 10:16</td>\n",
       "      <td>morning</td>\n",
       "      <td>weekend</td>\n",
       "    </tr>\n",
       "    <tr>\n",
       "      <th>12</th>\n",
       "      <td>6</td>\n",
       "      <td>Muffin</td>\n",
       "      <td>30-10-2016 10:16</td>\n",
       "      <td>morning</td>\n",
       "      <td>weekend</td>\n",
       "    </tr>\n",
       "    <tr>\n",
       "      <th>13</th>\n",
       "      <td>7</td>\n",
       "      <td>Medialuna</td>\n",
       "      <td>30-10-2016 10:19</td>\n",
       "      <td>morning</td>\n",
       "      <td>weekend</td>\n",
       "    </tr>\n",
       "    <tr>\n",
       "      <th>14</th>\n",
       "      <td>7</td>\n",
       "      <td>Pastry</td>\n",
       "      <td>30-10-2016 10:19</td>\n",
       "      <td>morning</td>\n",
       "      <td>weekend</td>\n",
       "    </tr>\n",
       "    <tr>\n",
       "      <th>15</th>\n",
       "      <td>7</td>\n",
       "      <td>Coffee</td>\n",
       "      <td>30-10-2016 10:19</td>\n",
       "      <td>morning</td>\n",
       "      <td>weekend</td>\n",
       "    </tr>\n",
       "    <tr>\n",
       "      <th>16</th>\n",
       "      <td>7</td>\n",
       "      <td>Tea</td>\n",
       "      <td>30-10-2016 10:19</td>\n",
       "      <td>morning</td>\n",
       "      <td>weekend</td>\n",
       "    </tr>\n",
       "    <tr>\n",
       "      <th>17</th>\n",
       "      <td>8</td>\n",
       "      <td>Pastry</td>\n",
       "      <td>30-10-2016 10:20</td>\n",
       "      <td>morning</td>\n",
       "      <td>weekend</td>\n",
       "    </tr>\n",
       "    <tr>\n",
       "      <th>18</th>\n",
       "      <td>8</td>\n",
       "      <td>Bread</td>\n",
       "      <td>30-10-2016 10:20</td>\n",
       "      <td>morning</td>\n",
       "      <td>weekend</td>\n",
       "    </tr>\n",
       "    <tr>\n",
       "      <th>19</th>\n",
       "      <td>9</td>\n",
       "      <td>Bread</td>\n",
       "      <td>30-10-2016 10:21</td>\n",
       "      <td>morning</td>\n",
       "      <td>weekend</td>\n",
       "    </tr>\n",
       "  </tbody>\n",
       "</table>\n",
       "</div>"
      ],
      "text/plain": [
       "    Transaction           Item         date_time period_day weekday_weekend\n",
       "0             1          Bread  30-10-2016 09:58    morning         weekend\n",
       "1             2   Scandinavian  30-10-2016 10:05    morning         weekend\n",
       "2             2   Scandinavian  30-10-2016 10:05    morning         weekend\n",
       "3             3  Hot chocolate  30-10-2016 10:07    morning         weekend\n",
       "4             3            Jam  30-10-2016 10:07    morning         weekend\n",
       "5             3        Cookies  30-10-2016 10:07    morning         weekend\n",
       "6             4         Muffin  30-10-2016 10:08    morning         weekend\n",
       "7             5         Coffee  30-10-2016 10:13    morning         weekend\n",
       "8             5         Pastry  30-10-2016 10:13    morning         weekend\n",
       "9             5          Bread  30-10-2016 10:13    morning         weekend\n",
       "10            6      Medialuna  30-10-2016 10:16    morning         weekend\n",
       "11            6         Pastry  30-10-2016 10:16    morning         weekend\n",
       "12            6         Muffin  30-10-2016 10:16    morning         weekend\n",
       "13            7      Medialuna  30-10-2016 10:19    morning         weekend\n",
       "14            7         Pastry  30-10-2016 10:19    morning         weekend\n",
       "15            7         Coffee  30-10-2016 10:19    morning         weekend\n",
       "16            7            Tea  30-10-2016 10:19    morning         weekend\n",
       "17            8         Pastry  30-10-2016 10:20    morning         weekend\n",
       "18            8          Bread  30-10-2016 10:20    morning         weekend\n",
       "19            9          Bread  30-10-2016 10:21    morning         weekend"
      ]
     },
     "execution_count": 33,
     "metadata": {},
     "output_type": "execute_result"
    }
   ],
   "source": [
    "data = pd.read_csv(\"./assignment_basket.csv\")\n",
    "data = data.dropna()\n",
    "data.head(20)\n"
   ]
  },
  {
   "cell_type": "code",
   "execution_count": null,
   "id": "5b256e5d",
   "metadata": {},
   "outputs": [],
   "source": [
    "pd."
   ]
  },
  {
   "cell_type": "code",
   "execution_count": 36,
   "id": "4a7d98d1",
   "metadata": {},
   "outputs": [
    {
     "name": "stderr",
     "output_type": "stream",
     "text": [
      "C:\\Users\\HP\\AppData\\Roaming\\Python\\Python39\\site-packages\\mlxtend\\frequent_patterns\\fpcommon.py:111: DeprecationWarning: DataFrames with non-bool types result in worse computationalperformance and their support might be discontinued in the future.Please use a DataFrame with bool type\n",
      "  warnings.warn(\n"
     ]
    },
    {
     "ename": "ValueError",
     "evalue": "The allowed values for a DataFrame are True, False, 0, 1. Found value Bread",
     "output_type": "error",
     "traceback": [
      "\u001b[1;31m---------------------------------------------------------------------------\u001b[0m",
      "\u001b[1;31mValueError\u001b[0m                                Traceback (most recent call last)",
      "\u001b[1;32mc:\\Users\\HP\\Desktop\\Assign\\BA II 1\\Assignment 1\\Assignment data files\\assess -1.ipynb Cell 3\u001b[0m in \u001b[0;36m<cell line: 1>\u001b[1;34m()\u001b[0m\n\u001b[1;32m----> <a href='vscode-notebook-cell:/c%3A/Users/HP/Desktop/Assign/BA%20II%201/Assignment%201/Assignment%20data%20files/assess%20-1.ipynb#X12sZmlsZQ%3D%3D?line=0'>1</a>\u001b[0m frequent_itemsets \u001b[39m=\u001b[39m apriori(data[[\u001b[39m'\u001b[39;49m\u001b[39mItem\u001b[39;49m\u001b[39m'\u001b[39;49m]], min_support\u001b[39m=\u001b[39;49m\u001b[39m0.50\u001b[39;49m, use_colnames\u001b[39m=\u001b[39;49m\u001b[39mTrue\u001b[39;49;00m)\n",
      "File \u001b[1;32m~\\AppData\\Roaming\\Python\\Python39\\site-packages\\mlxtend\\frequent_patterns\\apriori.py:241\u001b[0m, in \u001b[0;36mapriori\u001b[1;34m(df, min_support, use_colnames, max_len, verbose, low_memory)\u001b[0m\n\u001b[0;32m    234\u001b[0m \u001b[39mif\u001b[39;00m min_support \u001b[39m<\u001b[39m\u001b[39m=\u001b[39m \u001b[39m0.0\u001b[39m:\n\u001b[0;32m    235\u001b[0m     \u001b[39mraise\u001b[39;00m \u001b[39mValueError\u001b[39;00m(\n\u001b[0;32m    236\u001b[0m         \u001b[39m\"\u001b[39m\u001b[39m`min_support` must be a positive \u001b[39m\u001b[39m\"\u001b[39m\n\u001b[0;32m    237\u001b[0m         \u001b[39m\"\u001b[39m\u001b[39mnumber within the interval `(0, 1]`. \u001b[39m\u001b[39m\"\u001b[39m\n\u001b[0;32m    238\u001b[0m         \u001b[39m\"\u001b[39m\u001b[39mGot \u001b[39m\u001b[39m%s\u001b[39;00m\u001b[39m.\u001b[39m\u001b[39m\"\u001b[39m \u001b[39m%\u001b[39m min_support\n\u001b[0;32m    239\u001b[0m     )\n\u001b[1;32m--> 241\u001b[0m fpc\u001b[39m.\u001b[39;49mvalid_input_check(df)\n\u001b[0;32m    243\u001b[0m \u001b[39mif\u001b[39;00m \u001b[39mhasattr\u001b[39m(df, \u001b[39m\"\u001b[39m\u001b[39msparse\u001b[39m\u001b[39m\"\u001b[39m):\n\u001b[0;32m    244\u001b[0m     \u001b[39m# DataFrame with SparseArray (pandas >= 0.24)\u001b[39;00m\n\u001b[0;32m    245\u001b[0m     \u001b[39mif\u001b[39;00m df\u001b[39m.\u001b[39msize \u001b[39m==\u001b[39m \u001b[39m0\u001b[39m:\n",
      "File \u001b[1;32m~\\AppData\\Roaming\\Python\\Python39\\site-packages\\mlxtend\\frequent_patterns\\fpcommon.py:133\u001b[0m, in \u001b[0;36mvalid_input_check\u001b[1;34m(df)\u001b[0m\n\u001b[0;32m    128\u001b[0m val \u001b[39m=\u001b[39m values[\u001b[39mtuple\u001b[39m(loc[\u001b[39m0\u001b[39m] \u001b[39mfor\u001b[39;00m loc \u001b[39min\u001b[39;00m idxs)]\n\u001b[0;32m    129\u001b[0m s \u001b[39m=\u001b[39m (\n\u001b[0;32m    130\u001b[0m     \u001b[39m\"\u001b[39m\u001b[39mThe allowed values for a DataFrame\u001b[39m\u001b[39m\"\u001b[39m\n\u001b[0;32m    131\u001b[0m     \u001b[39m\"\u001b[39m\u001b[39m are True, False, 0, 1. Found value \u001b[39m\u001b[39m%s\u001b[39;00m\u001b[39m\"\u001b[39m \u001b[39m%\u001b[39m (val)\n\u001b[0;32m    132\u001b[0m )\n\u001b[1;32m--> 133\u001b[0m \u001b[39mraise\u001b[39;00m \u001b[39mValueError\u001b[39;00m(s)\n",
      "\u001b[1;31mValueError\u001b[0m: The allowed values for a DataFrame are True, False, 0, 1. Found value Bread"
     ]
    }
   ],
   "source": [
    "frequent_itemsets = apriori(data[['Item']], min_support=0.50, use_colnames=True)"
   ]
  },
  {
   "cell_type": "code",
   "execution_count": null,
   "id": "c9041f20",
   "metadata": {},
   "outputs": [],
   "source": [
    "frequent_itemsets"
   ]
  },
  {
   "cell_type": "markdown",
   "id": "4ee5a451",
   "metadata": {},
   "source": []
  },
  {
   "cell_type": "code",
   "execution_count": null,
   "id": "5b60751e",
   "metadata": {},
   "outputs": [
    {
     "data": {
      "image/png": "[encoded data removed]",
      "text/plain": [
       "<Figure size 936x360 with 1 Axes>"
      ]
     },
     "metadata": {
      "needs_background": "light"
     },
     "output_type": "display_data"
    }
   ],
   "source": [
    "color = plt.cm.rainbow(np.linspace(0, 1, 40))\n",
    "data['Item'].value_counts().head(40).plot.bar(color = color, figsize=(13,5))\n",
    "plt.title('frequency of most popular items', fontsize = 20)\n",
    "plt.xticks(rotation = 90 )\n",
    "plt.grid()\n",
    "plt.show()"
   ]
  }
 ],
 "metadata": {
  "kernelspec": {
   "display_name": "Python 3.9.12 ('base')",
   "language": "python",
   "name": "python3"
  },
  "language_info": {
   "codemirror_mode": {
    "name": "ipython",
    "version": 3
   },
   "file_extension": ".py",
   "mimetype": "text/x-python",
   "name": "python",
   "nbconvert_exporter": "python",
   "pygments_lexer": "ipython3",
   "version": "3.9.12"
  },
  "vscode": {
   "interpreter": {
    "hash": "ad2bdc8ecc057115af97d19610ffacc2b4e99fae6737bb82f5d7fb13d2f2c186"
   }
  }
 },
 "nbformat": 4,
 "nbformat_minor": 5
}
